{
 "cells": [
  {
   "cell_type": "markdown",
   "id": "f2dd921e-534b-4e5c-9c36-492f72910813",
   "metadata": {
    "editable": false
   },
   "source": [
    "# Assignment 3"
   ]
  },
  {
   "cell_type": "code",
   "execution_count": 1,
   "id": "5717a6e1-13b5-464b-9244-fdec8411cd5f",
   "metadata": {
    "editable": false,
    "tags": []
   },
   "outputs": [],
   "source": [
    "// [THIS IS READ-ONLY]\n",
    "@file:DependsOn(\"/antlr-4.11.1-complete.jar\")\n",
    "@file:DependsOn(\"./target\")"
   ]
  },
  {
   "cell_type": "code",
   "execution_count": 2,
   "id": "3b38dfda-74cd-4464-a6e0-a42096ff8aab",
   "metadata": {
    "editable": false,
    "tags": []
   },
   "outputs": [],
   "source": [
    "// [THIS IS READ-ONLY]\n",
    "import org.antlr.v4.runtime.*\n",
    "import backend.*"
   ]
  },
  {
   "cell_type": "code",
   "execution_count": 3,
   "id": "87e5764c-c1cf-43f8-86b8-71f1e6bfae44",
   "metadata": {
    "editable": false,
    "tags": []
   },
   "outputs": [],
   "source": [
    "// [THIS IS READ-ONLY]\n",
    "fun execute(source:String) {\n",
    "    val errorlistener = object: BaseErrorListener() {\n",
    "        override fun syntaxError(recognizer: Recognizer<*,*>,\n",
    "               offendingSymbol: Any?,\n",
    "               line: Int,\n",
    "               pos: Int,\n",
    "               msg: String,\n",
    "               e: RecognitionException?) {\n",
    "            throw Exception(\"${e} at line:${line}, char:${pos}\")\n",
    "        }\n",
    "    }\n",
    "    val input = CharStreams.fromString(source)\n",
    "    val lexer = PLLexer(input).apply {\n",
    "        removeErrorListeners()\n",
    "        addErrorListener(errorlistener)\n",
    "    }\n",
    "    val tokens = CommonTokenStream(lexer)\n",
    "    val parser = PLParser(tokens).apply {\n",
    "        removeErrorListeners()\n",
    "        addErrorListener(errorlistener)\n",
    "    }    \n",
    "    \n",
    "    try {\n",
    "        val result = parser.program()\n",
    "        result.expr.eval(Runtime())\n",
    "    } catch(e:Exception) {\n",
    "        println(\"Error: ${e}\")\n",
    "    }\n",
    "}"
   ]
  },
  {
   "cell_type": "markdown",
   "id": "d02565aa-4e9f-4261-a185-d140b68c54f1",
   "metadata": {
    "editable": false
   },
   "source": [
    "## String arithmetics"
   ]
  },
  {
   "cell_type": "code",
   "execution_count": 4,
   "id": "b001c14e-2f45-48fc-82be-a98168bf2aa9",
   "metadata": {
    "editable": false,
    "tags": []
   },
   "outputs": [],
   "source": [
    "// [THIS IS READ-ONLY]\n",
    "val program1 = \"\"\"\n",
    "x = \"Hello\";\n",
    "y = \"World\";\n",
    "\n",
    "print(x ++ \" \" ++ y);\n",
    "\"\"\""
   ]
  },
  {
   "cell_type": "code",
   "execution_count": 5,
   "id": "b3c2857e",
   "metadata": {
    "tags": []
   },
   "outputs": [
    {
     "name": "stdout",
     "output_type": "stream",
     "text": [
      "Hello World\n"
     ]
    }
   ],
   "source": [
    "// [YOUR WORK HERE]\n",
    "// @workUnit\n",
    "// execute the program\n",
    "\n",
    "execute(program1)"
   ]
  },
  {
   "cell_type": "markdown",
   "id": "b4ad5b2d-b4b2-42e8-bbe1-0ecefb10102d",
   "metadata": {
    "editable": false
   },
   "source": [
    "## Mixed arithmetics"
   ]
  },
  {
   "cell_type": "code",
   "execution_count": 6,
   "id": "579a59aa-6074-4715-a248-bd553e9bddbf",
   "metadata": {
    "editable": false,
    "tags": []
   },
   "outputs": [],
   "source": [
    "// [THIS IS READ-ONLY]\n",
    "val program2 = \"\"\"\n",
    "x = \"woof \";\n",
    "y = \"Dog goes \" ++ (x * 2);\n",
    "\n",
    "print(y);\n",
    "\"\"\""
   ]
  },
  {
   "cell_type": "code",
   "execution_count": 7,
   "id": "629a437d",
   "metadata": {
    "tags": []
   },
   "outputs": [
    {
     "name": "stdout",
     "output_type": "stream",
     "text": [
      "Dog goes woof woof \n"
     ]
    }
   ],
   "source": [
    "// [YOUR WORK HERE]\n",
    "// @workUnit\n",
    "\n",
    "execute(program2)"
   ]
  },
  {
   "cell_type": "markdown",
   "id": "172ba344-0ce6-49c2-a5ac-d14eefdaffb4",
   "metadata": {
    "editable": false
   },
   "source": [
    "## Loops"
   ]
  },
  {
   "cell_type": "code",
   "execution_count": 8,
   "id": "bed9c209-4579-4576-bad1-94a05ba6dcf1",
   "metadata": {
    "tags": []
   },
   "outputs": [],
   "source": [
    "val program3 = \"\"\"\n",
    "sum = 0;\n",
    "for(i in 10..20) {\n",
    "  sum = sum + i;\n",
    "}\n",
    "\n",
    "print(sum);\n",
    "\"\"\""
   ]
  },
  {
   "cell_type": "code",
   "execution_count": 9,
   "id": "9f1ac87b",
   "metadata": {
    "tags": []
   },
   "outputs": [
    {
     "name": "stdout",
     "output_type": "stream",
     "text": [
      "165\n"
     ]
    }
   ],
   "source": [
    "// [YOUR WORK HERE]\n",
    "// @workUnit\n",
    "\n",
    "execute(program3)"
   ]
  },
  {
   "cell_type": "markdown",
   "id": "46585be1-3814-4ad5-83e8-6ff46f99b90f",
   "metadata": {
    "editable": false,
    "tags": []
   },
   "source": [
    "## Function"
   ]
  },
  {
   "cell_type": "code",
   "execution_count": 10,
   "id": "91e9c33b-9393-4de7-8e98-aa82d568df53",
   "metadata": {
    "editable": false,
    "tags": []
   },
   "outputs": [],
   "source": [
    "// [THIS IS READ-ONLY]\n",
    "val program4 = \"\"\"\n",
    "function greeting(name, message) {\n",
    "  x = \"Hi,\";\n",
    "  x = x ++ \" my name is \" ++ name ++ \".\";\n",
    "  print(x);\n",
    "  print(message);\n",
    "}\n",
    "\n",
    "greeting(\"Albert\", \"How are you?\");\n",
    "\"\"\""
   ]
  },
  {
   "cell_type": "code",
   "execution_count": 11,
   "id": "475f7864",
   "metadata": {
    "tags": []
   },
   "outputs": [
    {
     "name": "stdout",
     "output_type": "stream",
     "text": [
      "Hi, my name is Albert.\n",
      "How are you?\n"
     ]
    }
   ],
   "source": [
    "// [YOUR WORK HERE]\n",
    "// @workUnit\n",
    "\n",
    "execute(program4)"
   ]
  },
  {
   "cell_type": "markdown",
   "id": "aeb42862-8d8a-4a40-ae06-a5641eb8d2bf",
   "metadata": {
    "editable": false,
    "tags": []
   },
   "source": [
    "## Recursion"
   ]
  },
  {
   "cell_type": "code",
   "execution_count": 12,
   "id": "c39324da-96e3-4e61-a489-f23a7fc3f508",
   "metadata": {
    "editable": false,
    "tags": []
   },
   "outputs": [],
   "source": [
    "// [THIS IS READ-ONLY]\n",
    "val program5 = \"\"\"\n",
    "function factorial(n) {\n",
    "  if(n < 2) {\n",
    "    1;\n",
    "  } else {\n",
    "    n * factorial(n-1);\n",
    "  }\n",
    "}\n",
    "\n",
    "print(factorial(10));\n",
    "\"\"\""
   ]
  },
  {
   "cell_type": "code",
   "execution_count": 13,
   "id": "755cf3df",
   "metadata": {
    "tags": []
   },
   "outputs": [
    {
     "name": "stdout",
     "output_type": "stream",
     "text": [
      "3628800\n"
     ]
    }
   ],
   "source": [
    "// [YOUR WORK HERE]\n",
    "// @workUnit\n",
    "\n",
    "execute(program5)"
   ]
  },
  {
   "cell_type": "code",
   "execution_count": 14,
   "id": "85d242e7-8d97-4dd4-a765-04fbedd55530",
   "metadata": {},
   "outputs": [],
   "source": [
    "val program6 = \"\"\"\n",
    "print(1.1 + 1.2f);\n",
    "\"\"\""
   ]
  },
  {
   "cell_type": "markdown",
   "id": "9293b0e1-853f-4e8f-92fd-439a590ee375",
   "metadata": {},
   "source": [
    "# Fundamental Data Types"
   ]
  },
  {
   "cell_type": "code",
   "execution_count": 15,
   "id": "bb3db2ac-f117-48ea-8b2a-5d4bac685086",
   "metadata": {
    "tags": []
   },
   "outputs": [],
   "source": [
    "val program7 = \"\"\"\n",
    "\n",
    "int_num = 1;\n",
    "float_num = 2.5f;\n",
    "double_num = 2.5;\n",
    "true_bool = true;\n",
    "false_bool = false;\n",
    "\n",
    "print(int_num);\n",
    "\n",
    "print(true_bool);\n",
    "print(false_bool);\n",
    "\n",
    "\"\"\""
   ]
  },
  {
   "cell_type": "code",
   "execution_count": 16,
   "id": "0847bd26-a386-4cf4-ad14-95ed51e9f843",
   "metadata": {
    "tags": []
   },
   "outputs": [
    {
     "name": "stdout",
     "output_type": "stream",
     "text": [
      "1\n",
      "Boolean:true\n",
      "Boolean:false\n"
     ]
    }
   ],
   "source": [
    "execute(program7)"
   ]
  },
  {
   "cell_type": "code",
   "execution_count": 17,
   "id": "bb85781e-6d14-4218-ab72-01ccacaadbe5",
   "metadata": {
    "tags": []
   },
   "outputs": [],
   "source": [
    "val program8 = \"\"\"\n",
    "i = 2.5f;\n",
    "j = 3.5f;\n",
    "\n",
    "print(\"i + j = \" ++ (i + j));\n",
    "print(\"i - j = \" ++ (i - j));\n",
    "print(\"i * j = \" ++ (i * j));\n",
    "print(\"i / j = \" ++ (i / j));\n",
    "\n",
    "j = 4.2;\n",
    "\n",
    "print(\"i + j = \" ++ (i + j));\n",
    "print(\"i - j = \" ++ (i - j));\n",
    "print(\"i * j = \" ++ (i * j));\n",
    "print(\"i / j = \" ++ (i / j));\n",
    "\n",
    "\"\"\""
   ]
  },
  {
   "cell_type": "code",
   "execution_count": 18,
   "id": "c7e86776-06ea-4876-81f2-cdb1273c0821",
   "metadata": {
    "tags": []
   },
   "outputs": [
    {
     "name": "stdout",
     "output_type": "stream",
     "text": [
      "i + j = 6.0\n",
      "i - j = -1.0\n",
      "i * j = 8.75\n",
      "i / j = 0.71428573\n",
      "i + j = 6.7\n",
      "i - j = -1.7000000000000002\n",
      "i * j = 10.5\n",
      "i / j = 0.5952380952380952\n"
     ]
    }
   ],
   "source": [
    "execute(program8)"
   ]
  },
  {
   "cell_type": "markdown",
   "id": "f6c24830-96f1-4204-bdd7-acc8f774b346",
   "metadata": {},
   "source": [
    "# Arrays"
   ]
  },
  {
   "cell_type": "code",
   "execution_count": 117,
   "id": "f877d144-eea6-45b9-bcfe-f43602cec850",
   "metadata": {
    "tags": []
   },
   "outputs": [],
   "source": [
    "val program9 = \"\"\"\n",
    "w = [1, 2, 3, 4, 5];\n",
    "x = [1.2, 2.1, 3.0, 4.4, 5.2];\n",
    "y = [1.2f, 2.3f, 2.3f, 2.4f, 12f];\n",
    "z = [\"Ken\", \"Arshiya\", \"Mashroor\", \"Tony\"];\n",
    "\n",
    "print(w);\n",
    "print(x);\n",
    "print(y);\n",
    "print(z);\n",
    "\n",
    "print(z[3]);\n",
    "z[3] = \"Pu\";\n",
    "print(z);\n",
    "\n",
    "print(\"Length: \" ++ len(w));\n",
    "\"\"\""
   ]
  },
  {
   "cell_type": "code",
   "execution_count": 118,
   "id": "8df3ee65-9ace-40ca-b83f-4665ea55b01b",
   "metadata": {
    "tags": []
   },
   "outputs": [
    {
     "name": "stdout",
     "output_type": "stream",
     "text": [
      "[1, 2, 3, 4, 5]\n",
      "[1.2, 2.1, 3.0, 4.4, 5.2]\n",
      "[1.2f, 2.3f, 2.3f, 2.4f, 12.0f]\n",
      "[Ken, Arshiya, Mashroor, Tony]\n",
      "Tony\n",
      "[Ken, Arshiya, Mashroor, Pu]\n",
      "Length: 5\n"
     ]
    }
   ],
   "source": [
    "execute(program9)"
   ]
  },
  {
   "cell_type": "markdown",
   "id": "d77a957e-2db5-46d9-9853-7b2cb956187b",
   "metadata": {},
   "source": [
    "# Sets"
   ]
  },
  {
   "cell_type": "code",
   "execution_count": 72,
   "id": "b408dbe7-e445-4ffd-9acd-c94bd88d0285",
   "metadata": {
    "tags": []
   },
   "outputs": [],
   "source": [
    "val program10 = \"\"\"\n",
    "x = { 1, 2, 3, 4, 5 };\n",
    "\n",
    "addSet(x, 10);\n",
    "removeSet(x, 2);\n",
    "print(x);\n",
    "\n",
    "\n",
    "print(inSet(x, 2));\n",
    "\n",
    "x = { 1, 2, 2, 4, 5 };\n",
    "addSet(x, 20);\n",
    "\n",
    "\"\"\""
   ]
  },
  {
   "cell_type": "code",
   "execution_count": 73,
   "id": "39d9ecbc-4e0d-4cd1-989b-eb2376e4a2c4",
   "metadata": {
    "tags": []
   },
   "outputs": [
    {
     "name": "stdout",
     "output_type": "stream",
     "text": [
      "{1, 2, 3, 4, 5}\n"
     ]
    }
   ],
   "source": [
    "execute(program10)"
   ]
  },
  {
   "cell_type": "markdown",
   "id": "9051d0be-cc00-430e-afc6-3b0381aeb84f",
   "metadata": {},
   "source": [
    "# Maps"
   ]
  },
  {
   "cell_type": "code",
   "execution_count": 103,
   "id": "1281a631-fde7-4396-93eb-7203bf850086",
   "metadata": {
    "tags": []
   },
   "outputs": [],
   "source": [
    "val program11 = \"\"\"\n",
    "x = { \"key1\" : 100, \"key2\" : 200 }; \n",
    "print(x);\n",
    "mapRemove(x,\"key1\");\n",
    "x<\"key3\"> = 200;\n",
    "print(x);\n",
    "print(x<\"key3\">)\n",
    "\"\"\""
   ]
  },
  {
   "cell_type": "code",
   "execution_count": 104,
   "id": "c1983ec9-cf81-40c0-b99b-a87df1e6d45c",
   "metadata": {
    "tags": []
   },
   "outputs": [
    {
     "name": "stdout",
     "output_type": "stream",
     "text": [
      "{key1 -> 100, key2 -> 200}\n",
      "{key2 -> 200, key3 -> 200}\n",
      "200\n"
     ]
    }
   ],
   "source": [
    "execute(program11)"
   ]
  },
  {
   "cell_type": "markdown",
   "id": "97755891-81ec-45fe-88b1-eb7cd7779e0b",
   "metadata": {},
   "source": [
    "# Ternary"
   ]
  },
  {
   "cell_type": "code",
   "execution_count": 93,
   "id": "7a259c6f-2054-43b0-9102-e5cf5ade8c56",
   "metadata": {
    "tags": []
   },
   "outputs": [],
   "source": [
    "val program12 = \"\"\"\n",
    "x = 2 < 3 ? true : false;\n",
    "print(x);\n",
    "\n",
    "x = 2 + 3 == 2 + 3 ? true : false;\n",
    "print(x);\n",
    "\n",
    "x = 2 >= 3 ? true : false;\n",
    "print(x);\n",
    "\"\"\""
   ]
  },
  {
   "cell_type": "code",
   "execution_count": 94,
   "id": "cd13a2f5-0eee-402f-9cb8-72ba2eb701bb",
   "metadata": {
    "tags": []
   },
   "outputs": [
    {
     "name": "stdout",
     "output_type": "stream",
     "text": [
      "Boolean:true\n",
      "Boolean:true\n",
      "Boolean:false\n"
     ]
    }
   ],
   "source": [
    "execute(program12)"
   ]
  },
  {
   "cell_type": "markdown",
   "id": "d7a69118-47dc-460b-b6cb-ffc4f94b5d57",
   "metadata": {},
   "source": [
    "# Traditional For Loops"
   ]
  },
  {
   "cell_type": "code",
   "execution_count": 111,
   "id": "17cbd4dc-a8ff-4034-9b91-fdba00f27678",
   "metadata": {
    "tags": []
   },
   "outputs": [],
   "source": [
    "val program14 = \"\"\"\n",
    "\n",
    "sum = 0;\n",
    "\n",
    "for (i = 0; i < 10; i++) {\n",
    "    sum += i;\n",
    "    print(sum);\n",
    "}\n",
    "\n",
    "print(\"++++++++++++\");\n",
    "\n",
    "for (i = 10; i > 0; i--) {\n",
    "    sum += i;\n",
    "    print(sum);\n",
    "}\n",
    "\n",
    "\"\"\""
   ]
  },
  {
   "cell_type": "code",
   "execution_count": 112,
   "id": "feb79957-7aaf-4a0c-8959-387ba0553d15",
   "metadata": {
    "tags": []
   },
   "outputs": [
    {
     "name": "stdout",
     "output_type": "stream",
     "text": [
      "0\n",
      "1\n",
      "3\n",
      "6\n",
      "10\n",
      "15\n",
      "21\n",
      "28\n",
      "36\n",
      "45\n",
      "++++++++++++\n",
      "55\n",
      "64\n",
      "72\n",
      "79\n",
      "85\n",
      "90\n",
      "94\n",
      "97\n",
      "99\n",
      "100\n"
     ]
    }
   ],
   "source": [
    "execute(program14)"
   ]
  },
  {
   "cell_type": "code",
   "execution_count": null,
   "id": "018f0f9b-a1ad-4b7b-af4a-f63b6da196a9",
   "metadata": {},
   "outputs": [],
   "source": []
  }
 ],
 "metadata": {
  "kernelspec": {
   "display_name": "Kotlin",
   "language": "kotlin",
   "name": "kotlin"
  },
  "language_info": {
   "codemirror_mode": "text/x-kotlin",
   "file_extension": ".kt",
   "mimetype": "text/x-kotlin",
   "name": "kotlin",
   "nbconvert_exporter": "",
   "pygments_lexer": "kotlin",
   "version": "1.8.0-dev-707"
  }
 },
 "nbformat": 4,
 "nbformat_minor": 5
}
